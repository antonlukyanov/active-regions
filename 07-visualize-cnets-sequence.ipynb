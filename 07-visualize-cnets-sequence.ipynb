{
 "cells": [
  {
   "cell_type": "code",
   "execution_count": 4,
   "metadata": {},
   "outputs": [],
   "source": [
    "import os\n",
    "from os import path\n",
    "\n",
    "import matplotlib.pyplot as plt\n",
    "import skimage.io as io\n",
    "import numpy as np\n",
    "\n",
    "import cnet\n",
    "from cnet import CNet\n",
    "import utils as utl"
   ]
  },
  {
   "cell_type": "markdown",
   "metadata": {},
   "source": [
    "# Визуализация критических сетей на магнитограммах"
   ]
  },
  {
   "cell_type": "markdown",
   "metadata": {},
   "source": [
    "## Критические сети на медианном масштабе"
   ]
  },
  {
   "cell_type": "code",
   "execution_count": 6,
   "metadata": {},
   "outputs": [
    {
     "name": "stdout",
     "output_type": "stream",
     "text": [
      "Found images: 239\n",
      "\n",
      "Flares:\n",
      "2014-04-25 X1.3\n",
      "2014-04-16 M1.0\n",
      "2014-04-11 C9.4\n",
      "\n",
      "Loading edges from cache\n",
      "Loading graphs from cache\n",
      "Loading stable levels from cache\n",
      "Loading selected levels from cache\n",
      "Loading spectra from cache\n",
      "Found images: 239\n",
      "\n",
      "Flares:\n",
      "2014-04-25 X1.3\n",
      "2014-04-16 M1.0\n",
      "2014-04-11 C9.4\n",
      "\n",
      "Loading edges from cache\n",
      "Loading graphs from cache\n",
      "Loading stable levels from cache\n",
      "Loading selected levels from cache\n",
      "Loading spectra from cache\n",
      "\n",
      "Saving images\n",
      "1/239 2/239 3/239 4/239 5/239 6/239 7/239 8/239 9/239 10/239 11/239 12/239 13/239 14/239 15/239 16/239 17/239 18/239 19/239 20/239 21/239 22/239 23/239 24/239 25/239 26/239 27/239 28/239 29/239 30/239 31/239 32/239 33/239 34/239 35/239 36/239 37/239 38/239 39/239 40/239 41/239 42/239 43/239 44/239 45/239 46/239 47/239 48/239 49/239 50/239 51/239 52/239 53/239 54/239 55/239 56/239 57/239 58/239 59/239 60/239 61/239 62/239 63/239 64/239 65/239 66/239 67/239 68/239 69/239 70/239 71/239 72/239 73/239 74/239 75/239 76/239 77/239 78/239 79/239 80/239 81/239 82/239 83/239 84/239 85/239 86/239 87/239 88/239 89/239 90/239 91/239 92/239 93/239 94/239 95/239 96/239 97/239 98/239 99/239 100/239 101/239 102/239 103/239 104/239 105/239 106/239 107/239 108/239 109/239 110/239 111/239 112/239 113/239 114/239 115/239 116/239 117/239 118/239 119/239 120/239 121/239 122/239 123/239 124/239 125/239 126/239 127/239 128/239 129/239 130/239 131/239 132/239 133/239 134/239 135/239 136/239 137/239 138/239 139/239 140/239 141/239 142/239 143/239 144/239 145/239 146/239 147/239 148/239 149/239 150/239 151/239 152/239 153/239 154/239 155/239 156/239 157/239 158/239 159/239 160/239 161/239 162/239 163/239 164/239 165/239 166/239 167/239 168/239 169/239 170/239 171/239 172/239 173/239 174/239 175/239 176/239 177/239 178/239 179/239 180/239 181/239 182/239 183/239 184/239 185/239 186/239 187/239 188/239 189/239 190/239 191/239 192/239 193/239 194/239 195/239 196/239 197/239 198/239 199/239 200/239 201/239 202/239 203/239 204/239 205/239 206/239 207/239 208/239 209/239 210/239 211/239 212/239 213/239 214/239 215/239 216/239 217/239 218/239 219/239 220/239 221/239 222/239 223/239 224/239 225/239 226/239 227/239 228/239 229/239 230/239 231/239 232/239 233/239 234/239 235/239 236/239 237/239 238/239 239/239 "
     ]
    }
   ],
   "source": [
    "imagesdir = 'data/images/AR2035H4000'\n",
    "cn = CNet()\n",
    "cn.proc(imagesdir)\n",
    "cnf = CNet()\n",
    "scale = int(np.median(cn.stable_scales(5)))\n",
    "cnf.proc(imagesdir, scale=scale)\n",
    "    \n",
    "pathprefix = 'data/cnet_images/AR2035H4000/median%d' % scale\n",
    "os.makedirs(pathprefix, exist_ok=True)\n",
    "\n",
    "print('\\nSaving images')\n",
    "plt.figure(figsize=(12, 12))\n",
    "for i, filepath in enumerate(cnf.imagepaths):\n",
    "    print('%d/%d' % (i+1, cnf.images_num), end=' ')\n",
    "    edges = cnf.edges[i]\n",
    "    cnet.plot_criticalnet(utl.read_fits(filepath), edges, newfigure=False)\n",
    "    plt.savefig(path.join(pathprefix, 'image%d.png' % i))"
   ]
  },
  {
   "cell_type": "markdown",
   "metadata": {},
   "source": [
    "## Устойчивые критические сети"
   ]
  },
  {
   "cell_type": "code",
   "execution_count": null,
   "metadata": {
    "scrolled": false
   },
   "outputs": [],
   "source": [
    "cn = CNet()\n",
    "cn.proc('data/images/AR11158')\n",
    "\n",
    "pathprefix = 'data/cnet_images/AR11158/stable'\n",
    "os.makedirs(pathprefix, exist_ok=True)\n",
    "\n",
    "print('\\nSaving images')\n",
    "plt.figure(figsize=(12, 12))\n",
    "for i, filepath in enumerate(cn.imagepaths):\n",
    "    print('%d/%d' % (i+1, cn.images_num), end=' ')\n",
    "    edges = cn.edges[i]\n",
    "    cnet.plot_criticalnet(utl.read_fits(filepath), edges, newfigure=False)\n",
    "    plt.savefig(path.join(pathprefix, 'image%d.png' % i))"
   ]
  },
  {
   "cell_type": "markdown",
   "metadata": {
    "collapsed": true
   },
   "source": [
    "## Критические сети на фиксированном масштабе"
   ]
  },
  {
   "cell_type": "code",
   "execution_count": null,
   "metadata": {},
   "outputs": [],
   "source": [
    "cn = CNet()\n",
    "cn.proc('data/images/AR11158', scale=80)\n",
    "\n",
    "pathprefix = 'data/cnet_images/AR11158/scale80'\n",
    "os.makedirs(pathprefix, exist_ok=True)\n",
    "\n",
    "print('\\nSaving images')\n",
    "plt.figure(figsize=(12, 12))\n",
    "for i, filepath in enumerate(cn.imagepaths):\n",
    "    print('%d/%d' % (i+1, cn.images_num), end=' ')\n",
    "    edges = cn.edges[i]\n",
    "    cnet.plot_criticalnet(utl.read_fits(filepath), edges, newfigure=False)\n",
    "    plt.savefig(path.join(pathprefix, 'image%d.png' % i))"
   ]
  }
 ],
 "metadata": {
  "kernelspec": {
   "display_name": "Python 3",
   "language": "python",
   "name": "python3"
  },
  "language_info": {
   "codemirror_mode": {
    "name": "ipython",
    "version": 3
   },
   "file_extension": ".py",
   "mimetype": "text/x-python",
   "name": "python",
   "nbconvert_exporter": "python",
   "pygments_lexer": "ipython3",
   "version": "3.6.1"
  },
  "nav_menu": {},
  "toc": {
   "navigate_menu": true,
   "number_sections": true,
   "sideBar": true,
   "threshold": 6,
   "toc_cell": false,
   "toc_section_display": "block",
   "toc_window_display": true
  }
 },
 "nbformat": 4,
 "nbformat_minor": 1
}
