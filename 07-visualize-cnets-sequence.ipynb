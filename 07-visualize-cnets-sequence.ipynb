{
 "cells": [
  {
   "cell_type": "code",
   "execution_count": null,
   "metadata": {
    "collapsed": false
   },
   "outputs": [],
   "source": [
    "import os\n",
    "from os import path\n",
    "\n",
    "import matplotlib.pyplot as plt\n",
    "import skimage.io as io\n",
    "\n",
    "import cnet\n",
    "from cnet import CNet"
   ]
  },
  {
   "cell_type": "markdown",
   "metadata": {},
   "source": [
    "# Визуализация критических сетей на магнитограммах"
   ]
  },
  {
   "cell_type": "markdown",
   "metadata": {},
   "source": [
    "## Устойчивые критические сети"
   ]
  },
  {
   "cell_type": "code",
   "execution_count": null,
   "metadata": {
    "collapsed": false,
    "scrolled": false
   },
   "outputs": [],
   "source": [
    "cn = CNet()\n",
    "cn.proc('images/AR11158')\n",
    "\n",
    "pathprefix = 'cnet_images/AR11158/stable'\n",
    "os.makedirs(pathprefix, exist_ok=True)\n",
    "\n",
    "print('\\nSaving images')\n",
    "plt.figure(figsize=(12, 12))\n",
    "for i, filepath in enumerate(cn.imagepaths):\n",
    "    print('%d/%d' % (i+1, cn.images_num), end=' ')\n",
    "    edges = cn.edges[i]\n",
    "    cnet.plot_criticalnet(io.imread(filepath), edges, newfigure=False)\n",
    "    plt.savefig(path.join(pathprefix, 'image%d.png' % i))"
   ]
  },
  {
   "cell_type": "markdown",
   "metadata": {
    "collapsed": true
   },
   "source": [
    "## Критические сети на фиксированном масштабе"
   ]
  },
  {
   "cell_type": "code",
   "execution_count": null,
   "metadata": {
    "collapsed": false
   },
   "outputs": [],
   "source": [
    "cn = CNet()\n",
    "cn.proc('images/AR11158', scale=80)\n",
    "\n",
    "pathprefix = 'cnet_images/AR11158/scale80'\n",
    "os.makedirs(pathprefix, exist_ok=True)\n",
    "\n",
    "print('\\nSaving images')\n",
    "plt.figure(figsize=(12, 12))\n",
    "for i, filepath in enumerate(cn.imagepaths):\n",
    "    print('%d/%d' % (i+1, cn.images_num), end=' ')\n",
    "    edges = cn.edges[i]\n",
    "    cnet.plot_criticalnet(io.imread(filepath), edges, newfigure=False)\n",
    "    plt.savefig(path.join(pathprefix, 'image%d.png' % i))"
   ]
  }
 ],
 "metadata": {
  "kernelspec": {
   "display_name": "Python 3",
   "language": "python",
   "name": "python3"
  },
  "language_info": {
   "codemirror_mode": {
    "name": "ipython",
    "version": 3
   },
   "file_extension": ".py",
   "mimetype": "text/x-python",
   "name": "python",
   "nbconvert_exporter": "python",
   "pygments_lexer": "ipython3",
   "version": "3.5.2"
  },
  "nav_menu": {},
  "toc": {
   "navigate_menu": true,
   "number_sections": true,
   "sideBar": true,
   "threshold": 6,
   "toc_cell": false,
   "toc_section_display": "block",
   "toc_window_display": true
  }
 },
 "nbformat": 4,
 "nbformat_minor": 0
}
